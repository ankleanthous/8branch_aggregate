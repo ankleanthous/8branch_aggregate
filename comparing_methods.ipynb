{
 "cells": [
  {
   "cell_type": "code",
   "execution_count": 1,
   "metadata": {
    "collapsed": true
   },
   "outputs": [],
   "source": [
    "import numpy as np\n",
    "size = '2mm'"
   ]
  },
  {
   "cell_type": "code",
   "execution_count": 2,
   "metadata": {
    "collapsed": true
   },
   "outputs": [],
   "source": [
    "if size == '1,936mm':\n",
    "    data_pm = np.loadtxt('Tmatrix/' + size + '/phase_matrix.txt')\n",
    "    Z11_Tmatrix = data_pm[:,1]#*1E-12\n",
    "    Z22_Tmatrix = data_pm[:,3]#*1E-12\n",
    "    Z33_Tmatrix = data_pm[:,4]#*1E-12\n",
    "    Z44_Tmatrix = data_pm[:,5]#*1E-12\n",
    "    Z12_Tmatrix = data_pm[:,2]#*1E-12\n",
    "    Z34_Tmatrix = -data_pm[:,6]#*1E-12\n",
    "    Tmatrix_coords = data_pm[:,0]\n",
    "    Tmatrix_coords = np.radians(Tmatrix_coords)\n",
    "    data_SSPs = np.loadtxt('Tmatrix/' + size + '/SSPs.txt')\n",
    "    Cext_Tmatrix = data_SSPs[0] #* 1E-12 #converting to meters^2\n",
    "    Csca_Tmatrix = data_SSPs[1] #* 1E-12\n",
    "    g_Tmatrix = data_SSPs[2]\n",
    "    w_Tmatrix = Cext_Tmatrix/Csca_Tmatrix\n",
    "    Cbsca_Tmatrix = Z11_Tmatrix[-1] * Csca_Tmatrix\n",
    "else:\n",
    "    data_pm = np.loadtxt('Tmatrix/' + size + '/phase_matrix.txt')\n",
    "    Z11_Tmatrix = data_pm[:,1]#*1E-12\n",
    "    Z22_Tmatrix = data_pm[:,3]#*1E-12\n",
    "    Z33_Tmatrix = data_pm[:,4]#*1E-12\n",
    "    Z44_Tmatrix = data_pm[:,6]#*1E-12\n",
    "    Z12_Tmatrix = data_pm[:,2]#*1E-12\n",
    "    Z34_Tmatrix = -data_pm[:,5]#*1E-12\n",
    "    Tmatrix_coords = data_pm[:,0]\n",
    "    Tmatrix_coords = np.radians(Tmatrix_coords)\n",
    "    data_SSPs = np.loadtxt('Tmatrix/' + size + '/SSPs.txt')\n",
    "    Cext_Tmatrix = data_SSPs[0] #* 1E-12 #converting to meters^2\n",
    "    Csca_Tmatrix = data_SSPs[1] #* 1E-12\n",
    "    g_Tmatrix = data_SSPs[3]\n",
    "    w_Tmatrix = data_SSPs[2]\n",
    "    Cbsca_Tmatrix = Z11_Tmatrix[-1] * Csca_Tmatrix"
   ]
  },
  {
   "cell_type": "code",
   "execution_count": null,
   "metadata": {
    "collapsed": true
   },
   "outputs": [],
   "source": [
    "# data_pm = np.loadtxt('DDA/' + size + '/phase_matrix.txt')\n",
    "# Z11_DDA = data_pm[:,1]#*1E-12\n",
    "# Z22_DDA = data_pm[:,3]#*1E-12\n",
    "# Z33_DDA = data_pm[:,4]#*1E-12\n",
    "# Z44_DDA = data_pm[:,6]#*1E-12\n",
    "# Z12_DDA = data_pm[:,2]#*1E-12\n",
    "# Z34_DDA = data_pm[:,5]#*1E-12\n",
    "# DDA_coords = data_pm[:,0]\n",
    "# DDA_coords = np.radians(DDA_coords)"
   ]
  },
  {
   "cell_type": "code",
   "execution_count": null,
   "metadata": {
    "collapsed": true
   },
   "outputs": [],
   "source": [
    "# data_SSPs = np.loadtxt('DDA/' + size + '/SSPs.txt')\n",
    "# Cext_Tmatrix = data_SSPs[0] #* 1E-12 #converting to meters^2\n",
    "# Csca_Tmatrix = data_SSPs[1] #* 1E-12\n",
    "# # g_Tmatrix = data_SSPs[3]\n",
    "# # w_Tmatrix = data_SSPs[2]\n",
    "# Cbsca_Tmatrix = Z11_Tmatrix[-1] * Csca_Tmatrix"
   ]
  },
  {
   "cell_type": "code",
   "execution_count": 3,
   "metadata": {},
   "outputs": [],
   "source": [
    "with open('results/' + size + '/temperature200/timings_20_230leb_15gauss.txt', 'r') as file:\n",
    "    line = file.readlines()\n",
    "\n",
    "Cext_bem = line[5]\n",
    "Csca_bem = line[6]\n",
    "Cbsca_bem = line[7]\n",
    "g_bem = line[8]\n",
    "w_bem = line[9]\n",
    "\n",
    "Cext_bem = float(Cext_bem.replace('Cext avg: ', ''))\n",
    "Csca_bem = float(Csca_bem.replace('Csca avg: ', ''))\n",
    "Cbsca_bem = float(Cbsca_bem.replace('Cbsca avg: ', ''))\n",
    "g_bem = float(g_bem.replace('g avg: ', ''))\n",
    "w_bem = float(w_bem.replace('w avg: ', ''))\n",
    "\n",
    "Z11_bem = np.loadtxt('results/' + size + '/temperature200/Z11_20_230leb_15gauss.txt')\n",
    "Z12_bem = np.loadtxt('results/' + size + '/temperature200/Z12_20_230leb_15gauss.txt')\n",
    "Z22_bem = np.loadtxt('results/' + size + '/temperature200/Z22_20_230leb_15gauss.txt')\n",
    "Z33_bem = np.loadtxt('results/' + size + '/temperature200/Z33_20_230leb_15gauss.txt')\n",
    "Z34_bem = np.loadtxt('results/' + size + '/temperature200/Z34_20_230leb_15gauss.txt')\n",
    "Z44_bem = np.loadtxt('results/' + size + '/temperature200/Z44_20_230leb_15gauss.txt')"
   ]
  },
  {
   "cell_type": "code",
   "execution_count": null,
   "metadata": {
    "collapsed": true
   },
   "outputs": [],
   "source": [
    "# Cext_perwave = line[15].replace('Cext: ', '').replace('\\n','').strip('][').replace(']','').replace('[','').split(',')\n",
    "# Cext_perwave = [float(i) for i in Cext_perwave]\n",
    "# Csca_perwave = line[16].replace('Csca: ', '').replace('\\n','').strip('][').replace(']','').replace('[','').split(',')\n",
    "# Csca_perwave = [float(i) for i in Csca_perwave]\n",
    "# Cbsca_perwave = line[17].replace('Cbsca: ', '').replace('\\n','').strip('][').replace(']','').replace('[','').split(',')\n",
    "# Cbsca_perwave = [float(i) for i in Cbsca_perwave]\n",
    "# g_perwave = line[18].replace('g: ', '').replace('\\n','').strip('][').replace(']','').replace('[','').split(',')\n",
    "# g_perwave = [float(i) for i in g_perwave]\n",
    "# w_perwave = line[19].replace('w: ', '').replace('\\n','').strip('][').replace(']','').replace('[','').split(',')\n",
    "# w_perwave = [float(i) for i in w_perwave]"
   ]
  },
  {
   "cell_type": "code",
   "execution_count": null,
   "metadata": {
    "collapsed": true
   },
   "outputs": [],
   "source": [
    "# print([i for i in Cext_perwave if i<0])\n",
    "# print([i for i in g_perwave if i<0])\n",
    "# print([i for i in g_perwave if i>1])\n",
    "# print([i for i in w_perwave if i<0])\n",
    "# print([i for i in w_perwave if i>1])"
   ]
  },
  {
   "cell_type": "code",
   "execution_count": null,
   "metadata": {
    "collapsed": true
   },
   "outputs": [],
   "source": [
    "# with open('results-v2/' + size + '/temperature200/timings_20_50leb_15gauss.txt', 'r') as file:\n",
    "#     line = file.readlines()\n",
    "\n",
    "# Cext_bem_20 = line[5]\n",
    "# Csca_bem_20 = line[6]\n",
    "# Cbsca_bem_20 = line[7]\n",
    "# g_bem_20 = line[8]\n",
    "# w_bem_20 = line[9]\n",
    "\n",
    "# Cext_bem_20 = float(Cext_bem_20.replace('Cext avg: ', ''))\n",
    "# Csca_bem_20 = float(Csca_bem_20.replace('Csca avg: ', ''))\n",
    "# Cbsca_bem_20 = float(Cbsca_bem_20.replace('Cbsca avg: ', ''))\n",
    "# g_bem_20 = float(g_bem_20.replace('g avg: ', ''))\n",
    "# w_bem_20 = float(w_bem_20.replace('w avg: ', ''))\n",
    "\n",
    "\n",
    "# Z11_bem_20 = np.loadtxt('results/' + size + '/temperature200/Z11_20_50leb_15gauss.txt')\n",
    "# Z12_bem_20 = np.loadtxt('results/' + size + '/temperature200/Z12_20_50leb_15gauss.txt')\n",
    "# Z22_bem_20 = np.loadtxt('results/' + size + '/temperature200/Z22_20_50leb_15gauss.txt')\n",
    "# Z33_bem_20 = np.loadtxt('results/' + size + '/temperature200/Z33_20_50leb_15gauss.txt')\n",
    "# Z34_bem_20 = np.loadtxt('results/' + size + '/temperature200/Z34_20_50leb_15gauss.txt')\n",
    "# Z44_bem_20 = np.loadtxt('results/' + size + '/temperature200/Z44_20_50leb_15gauss.txt')"
   ]
  },
  {
   "cell_type": "code",
   "execution_count": null,
   "metadata": {
    "collapsed": true
   },
   "outputs": [],
   "source": [
    "# Cext_perwave_20 = line[15].replace('Cext: ', '').replace('\\n','').strip('][').replace(']','').replace('[','').split(',')\n",
    "# Cext_perwave_20 = [float(i) for i in Cext_perwave_20]\n",
    "# Csca_perwave_20 = line[16].replace('Csca: ', '').replace('\\n','').strip('][').replace(']','').replace('[','').split(',')\n",
    "# Csca_perwave_20 = [float(i) for i in Csca_perwave_20]\n",
    "# Cbsca_perwave_20 = line[17].replace('Cbsca: ', '').replace('\\n','').strip('][').replace(']','').replace('[','').split(',')\n",
    "# Cbsca_perwave_20 = [float(i) for i in Cbsca_perwave_20]\n",
    "# g_perwave_20 = line[18].replace('g: ', '').replace('\\n','').strip('][').replace(']','').replace('[','').split(',')\n",
    "# g_perwave_20 = [float(i) for i in g_perwave_20]\n",
    "# w_perwave_20 = line[19].replace('w: ', '').replace('\\n','').strip('][').replace(']','').replace('[','').split(',')\n",
    "# w_perwave_20 = [float(i) for i in w_perwave_20]\n",
    "# print([i for i in Cext_perwave_20 if i<0])\n",
    "# print([i for i in g_perwave_20 if i<0])\n",
    "# print([i for i in g_perwave_20 if i>1])\n",
    "# print([i for i in w_perwave_20 if i<0])\n",
    "# print([i for i in w_perwave_20 if i>1])"
   ]
  },
  {
   "cell_type": "code",
   "execution_count": null,
   "metadata": {
    "collapsed": true
   },
   "outputs": [],
   "source": [
    "# with open('results/' + size + '/temperature200/timings_50_14leb_10gauss.txt', 'r') as file:\n",
    "#     line = file.readlines()\n",
    "\n",
    "# Cext_bem_50 = line[5]\n",
    "# Csca_bem_50 = line[6]\n",
    "# Cbsca_bem_50 = line[7]\n",
    "# g_bem_50 = line[8]\n",
    "# w_bem_50 = line[9]\n",
    "\n",
    "# Cext_bem_50 = float(Cext_bem_50.replace('Cext avg: ', ''))\n",
    "# Csca_bem_50 = float(Csca_bem_50.replace('Csca avg: ', ''))\n",
    "# Cbsca_bem_50 = float(Cbsca_bem_50.replace('Cbsca avg: ', ''))\n",
    "# g_bem_50 = float(g_bem_50.replace('g avg: ', ''))\n",
    "# w_bem_50 = float(w_bem_50.replace('w avg: ', ''))\n",
    "\n",
    "\n",
    "# Z11_bem_50 = np.loadtxt('results/' + size + '/temperature200/Z11_50_14leb_10gauss.txt')\n",
    "# Z12_bem_50 = np.loadtxt('results/' + size + '/temperature200/Z12_50_14leb_10gauss.txt')\n",
    "# Z22_bem_50 = np.loadtxt('results/' + size + '/temperature200/Z22_50_14leb_10gauss.txt')\n",
    "# Z33_bem_50 = np.loadtxt('results/' + size + '/temperature200/Z33_50_14leb_10gauss.txt')\n",
    "# Z34_bem_50 = np.loadtxt('results/' + size + '/temperature200/Z34_50_14leb_10gauss.txt')\n",
    "# Z44_bem_50 = np.loadtxt('results/' + size + '/temperature200/Z44_50_14leb_10gauss.txt')"
   ]
  },
  {
   "cell_type": "code",
   "execution_count": null,
   "metadata": {},
   "outputs": [],
   "source": [
    "# Cext_perwave_50 = line[15].replace('Cext: ', '').replace('\\n','').strip('][').replace(']','').replace('[','').split(',')\n",
    "# Cext_perwave_50 = [float(i) for i in Cext_perwave_50]\n",
    "# Csca_perwave_50 = line[16].replace('Csca: ', '').replace('\\n','').strip('][').replace(']','').replace('[','').split(',')\n",
    "# Csca_perwave_50 = [float(i) for i in Csca_perwave_50]\n",
    "# Cbsca_perwave_50 = line[17].replace('Cbsca: ', '').replace('\\n','').strip('][').replace(']','').replace('[','').split(',')\n",
    "# Cbsca_perwave_50 = [float(i) for i in Cbsca_perwave_50]\n",
    "# g_perwave_50 = line[18].replace('g: ', '').replace('\\n','').strip('][').replace(']','').replace('[','').split(',')\n",
    "# g_perwave_50 = [float(i) for i in g_perwave_50]\n",
    "# w_perwave_50 = line[19].replace('w: ', '').replace('\\n','').strip('][').replace(']','').replace('[','').split(',')\n",
    "# w_perwave_50 = [float(i) for i in w_perwave_50]\n",
    "# print([i for i in Cext_perwave_50 if i<0])\n",
    "# print([i for i in g_perwave_50 if i<0])\n",
    "# print([i for i in g_perwave_50 if i>1])\n",
    "# print([i for i in w_perwave_50 if i<0])\n",
    "# print([i for i in w_perwave_50 if i>1])"
   ]
  },
  {
   "cell_type": "code",
   "execution_count": 4,
   "metadata": {},
   "outputs": [
    {
     "name": "stdout",
     "output_type": "stream",
     "text": [
      "Error in Csca: 6.33876%\n",
      "Error in Cext: 7.23022%\n",
      "Error in Cbsca: 8.67416%\n",
      "Error in g: 0.35544%\n",
      "Error in w: 0.83255%\n"
     ]
    }
   ],
   "source": [
    "print(\"Error in Csca: {0:.5%}\".format(abs(Csca_bem - Csca_Tmatrix)/Csca_Tmatrix))\n",
    "print(\"Error in Cext: {0:.5%}\".format(abs(Cext_bem - Cext_Tmatrix)/Cext_Tmatrix))\n",
    "print(\"Error in Cbsca: {0:.5%}\".format(abs(Cbsca_bem - Cbsca_Tmatrix)/Cbsca_Tmatrix))\n",
    "print(\"Error in g: {0:.5%}\".format(abs(g_bem - g_Tmatrix)/g_Tmatrix))\n",
    "print(\"Error in w: {0:.5%}\".format(abs(w_bem - w_Tmatrix)/w_Tmatrix))\n"
   ]
  },
  {
   "cell_type": "code",
   "execution_count": 5,
   "metadata": {},
   "outputs": [
    {
     "name": "stdout",
     "output_type": "stream",
     "text": [
      "Cext = 3.601533e-06\n",
      "Csca = 3.336227e-06\n",
      "Cbsca = 2.0477928137350003e-06\n",
      "g = 0.59739\n",
      "w = 0.92633\n"
     ]
    }
   ],
   "source": [
    "print('Cext = {0}'.format(Cext_Tmatrix))\n",
    "print('Csca = {0}'.format(Csca_Tmatrix))\n",
    "print('Cbsca = {0}'.format(Cbsca_Tmatrix))\n",
    "print('g = {0}'.format(g_Tmatrix))\n",
    "print('w = {0}'.format(w_Tmatrix))"
   ]
  },
  {
   "cell_type": "code",
   "execution_count": 6,
   "metadata": {},
   "outputs": [
    {
     "name": "stdout",
     "output_type": "stream",
     "text": [
      "Cext = 3.341134403585383e-06\n",
      "Csca = 3.12475142483322e-06\n",
      "Cbsca = 1.870163931180775e-06\n",
      "g = 0.5952666333215006\n",
      "w = 0.9340421629703934\n"
     ]
    }
   ],
   "source": [
    "print('Cext = {0}'.format(Cext_bem))\n",
    "print('Csca = {0}'.format(Csca_bem))\n",
    "print('Cbsca = {0}'.format(Cbsca_bem))\n",
    "print('g = {0}'.format(g_bem))\n",
    "print('w = {0}'.format(w_bem))"
   ]
  },
  {
   "cell_type": "code",
   "execution_count": null,
   "metadata": {},
   "outputs": [],
   "source": [
    "# print(\"Error in Csca: {0:.5%}\".format(abs(Csca_bem_20 - Csca_Tmatrix)/Csca_Tmatrix))\n",
    "# print(\"Error in Cext: {0:.5%}\".format(abs(Cext_bem_20 - Cext_Tmatrix)/Cext_Tmatrix))\n",
    "# print(\"Error in Cbsca: {0:.5%}\".format(abs(Cbsca_bem_20 - Cbsca_Tmatrix)/Cbsca_Tmatrix))\n",
    "# print(\"Error in g: {0:.5%}\".format(abs(g_bem_20 - g_Tmatrix)/g_Tmatrix))\n",
    "# print(\"Error in w: {0:.5%}\".format(abs(w_bem_20 - w_Tmatrix)/w_Tmatrix))"
   ]
  },
  {
   "cell_type": "code",
   "execution_count": null,
   "metadata": {},
   "outputs": [],
   "source": [
    "\n",
    "# print(\"Error in Csca: {0:.5%}\".format(abs(Csca_bem_50 - Csca_Tmatrix)/Csca_Tmatrix))\n",
    "# print(\"Error in Cext: {0:.5%}\".format(abs(Cext_bem_50 - Cext_Tmatrix)/Cext_Tmatrix))\n",
    "# print(\"Error in Cbsca: {0:.5%}\".format(abs(Cbsca_bem_50 - Cbsca_Tmatrix)/Cbsca_Tmatrix))\n",
    "# print(\"Error in g: {0:.5%}\".format(abs(g_bem_50 - g_Tmatrix)/g_Tmatrix))\n",
    "# print(\"Error in w: {0:.5%}\".format(abs(w_bem_50 - w_Tmatrix)/w_Tmatrix))"
   ]
  },
  {
   "cell_type": "code",
   "execution_count": 7,
   "metadata": {
    "scrolled": false
   },
   "outputs": [
    {
     "data": {
      "text/plain": [
       "Text(0.5,1,'Z44')"
      ]
     },
     "execution_count": 7,
     "metadata": {},
     "output_type": "execute_result"
    },
    {
     "data": {
      "image/png": "[encoded data removed]",
      "text/plain": [
       "<Figure size 1080x504 with 8 Axes>"
      ]
     },
     "metadata": {},
     "output_type": "display_data"
    }
   ],
   "source": [
    "%matplotlib inline\n",
    "import matplotlib.pyplot as plt\n",
    "scaling = 4*np.pi/Csca_bem#*1.0888010560282591\n",
    "angles_theta = np.linspace(0,np.pi,1801)\n",
    "\n",
    "fig, axs = plt.subplots(2, 4, figsize = (15,7))\n",
    "axs[0, 0].semilogy(Tmatrix_coords, Z11_Tmatrix, 'b', label = 'T-matrix')\n",
    "axs[0, 0].semilogy(angles_theta, scaling*Z11_bem, '--r', label = 'BEM')\n",
    "# axs[0, 0].semilogy(DDA_coords, Z11_DDA, label = 'DDA')\n",
    "axs[0, 0].set_title('Z11')\n",
    "axs[0, 0].legend()\n",
    "\n",
    "axs[0, 1].plot(Tmatrix_coords, Z12_Tmatrix, 'b', label = 'T-matrix')\n",
    "axs[0, 1].plot(angles_theta, scaling*Z12_bem, '--r', label = 'BEM')\n",
    "# axs[0, 1].plot(DDA_coords, Z12_DDA,  label = 'DDA')\n",
    "axs[0, 1].set_title('Z12')\n",
    "# axs[0, 1].legend()\n",
    "\n",
    "axs[1, 0].plot(Tmatrix_coords, Z12_Tmatrix, 'b', label = 'T-matrix')\n",
    "axs[1, 0].plot(angles_theta, scaling*Z12_bem, '--r', label = 'BEM')\n",
    "# axs[1, 0].plot(DDA_coords, Z12_DDA,  label = 'DDA')\n",
    "axs[1, 0].set_title('Z21')\n",
    "# axs[1, 0].legend()\n",
    "\n",
    "axs[1, 1].semilogy(Tmatrix_coords, Z22_Tmatrix, 'b', label = 'T-matrix')\n",
    "axs[1, 1].semilogy(angles_theta, scaling*Z22_bem, '--r', label = 'BEM')\n",
    "# axs[1, 1].semilogy(DDA_coords, Z22_DDA, label = 'DDA')\n",
    "axs[1, 1].set_title('Z22')\n",
    "# axs[1, 1].legend()\n",
    "\n",
    "axs[0, 2].plot(Tmatrix_coords, Z33_Tmatrix, 'b', label = 'T-matrix')\n",
    "axs[0, 2].plot(angles_theta,scaling* Z33_bem, '--r', label = 'BEM')\n",
    "# axs[0, 2].plot(DDA_coords, Z33_DDA, label = 'DDA')\n",
    "axs[0, 2].set_title('Z33')\n",
    "# axs[0, 2].legend()\n",
    "\n",
    "axs[0, 3].plot(Tmatrix_coords, Z34_Tmatrix, 'b', label = 'T-matrix')\n",
    "axs[0, 3].plot(angles_theta,scaling* Z34_bem, '--r', label = 'BEM')\n",
    "# axs[0, 3].plot(DDA_coords, Z34_DDA, label = 'DDA')\n",
    "axs[0, 3].set_title('Z34')\n",
    "# axs[0, 3].set_ylim([-0.2, 0.2])\n",
    "# axs[0, 3].legend()\n",
    "\n",
    "axs[1, 2].plot(Tmatrix_coords, -Z34_Tmatrix, 'b', label = 'T-matrix')\n",
    "axs[1, 2].plot(angles_theta,-scaling* Z34_bem, '--r', label = 'BEM')\n",
    "# axs[1, 2].plot(DDA_coords, -Z34_DDA, label = 'DDA')\n",
    "axs[1, 2].set_title('Z43')\n",
    "# axs[1, 2].set_ylim([-0.2, 0.2])\n",
    "# axs[1, 2].legend()\n",
    "\n",
    "axs[1, 3].plot(Tmatrix_coords, Z44_Tmatrix, 'b', label = 'T-matrix')\n",
    "axs[1, 3].plot(angles_theta,scaling* Z44_bem, '--r', label = 'BEM')\n",
    "# axs[1, 3].plot(DDA_coords, Z44_DDA, label = 'DDA')\n",
    "axs[1, 3].set_title('Z44')\n",
    "# axs[1, 3].legend()"
   ]
  },
  {
   "cell_type": "code",
   "execution_count": null,
   "metadata": {
    "collapsed": true
   },
   "outputs": [],
   "source": []
  },
  {
   "cell_type": "code",
   "execution_count": null,
   "metadata": {},
   "outputs": [],
   "source": [
    "%matplotlib inline\n",
    "import matplotlib.pyplot as plt\n",
    "scaling = 4*np.pi/Csca_bem\n",
    "scaling2 = 4*np.pi/Csca_bem_20\n",
    "scaling3 = 4*np.pi/Csca_bem_50\n",
    "angles_theta = np.linspace(0,np.pi,1801)\n",
    "\n",
    "fig, axs = plt.subplots(2, 4, figsize = (15,7))\n",
    "axs[0, 0].semilogy(Tmatrix_coords, Z11_Tmatrix, 'b', label = 'T-matrix')\n",
    "axs[0, 0].semilogy(angles_theta, scaling*Z11_bem, '--r', label = 'BEM-10')\n",
    "axs[0, 0].semilogy(angles_theta, scaling2*Z11_bem_20, '--y', label = 'BEM-20')\n",
    "axs[0, 0].semilogy(angles_theta, scaling3*Z11_bem_50, '--g', label = 'BEM-50')\n",
    "axs[0, 0].set_title('Z11')\n",
    "axs[0, 0].legend()\n",
    "\n",
    "axs[0, 1].plot(Tmatrix_coords, Z12_Tmatrix, 'b', label = 'T-matrix')\n",
    "axs[0, 1].plot(angles_theta, scaling*Z12_bem, '--r', label = 'BEM-10')\n",
    "axs[0, 1].plot(angles_theta, scaling2*Z12_bem_20, '--y', label = 'BEM-20')\n",
    "axs[0, 1].plot(angles_theta, scaling3*Z12_bem_50, '--g', label = 'BEM-50')\n",
    "axs[0, 1].set_title('Z12')\n",
    "# axs[0, 1].legend()\n",
    "\n",
    "axs[1, 0].plot(Tmatrix_coords, Z12_Tmatrix, 'b', label = 'T-matrix')\n",
    "axs[1, 0].plot(angles_theta, scaling*Z12_bem, '--r', label = 'BEM-10')\n",
    "axs[1, 0].plot(angles_theta, scaling2*Z12_bem_20, '--y', label = 'BEM-20')\n",
    "axs[1, 0].plot(angles_theta, scaling3*Z12_bem_50, '--g', label = 'BEM-50')\n",
    "axs[1, 0].set_title('Z21')\n",
    "# axs[1, 0].legend()\n",
    "\n",
    "axs[1, 1].semilogy(Tmatrix_coords, Z22_Tmatrix, 'b', label = 'T-matrix')\n",
    "axs[1, 1].semilogy(angles_theta, scaling*Z22_bem, '--r', label = 'BEM-10')\n",
    "axs[1, 1].semilogy(angles_theta, scaling2*Z22_bem_20, '--y', label = 'BEM-20')\n",
    "axs[1, 1].semilogy(angles_theta, scaling3*Z22_bem_50, '--g', label = 'BEM-50')\n",
    "axs[1, 1].set_title('Z22')\n",
    "# axs[1, 1].legend()\n",
    "\n",
    "axs[0, 2].plot(Tmatrix_coords, Z33_Tmatrix, 'b', label = 'T-matrix')\n",
    "axs[0, 2].plot(angles_theta,scaling* Z33_bem, '--r', label = 'BEM-10')\n",
    "axs[0, 2].plot(angles_theta,scaling2* Z33_bem_20, '--y', label = 'BEM-20')\n",
    "axs[0, 2].plot(angles_theta,scaling3* Z33_bem_50, '--g', label = 'BEM-50')\n",
    "axs[0, 2].set_title('Z33')\n",
    "# axs[0, 2].legend()\n",
    "\n",
    "axs[0, 3].plot(Tmatrix_coords, Z34_Tmatrix, 'b', label = 'T-matrix')\n",
    "axs[0, 3].plot(angles_theta,scaling* Z34_bem, '--r', label = 'BEM-10')\n",
    "axs[0, 3].plot(angles_theta,scaling2* Z34_bem_20, '--y', label = 'BEM-20')\n",
    "axs[0, 3].plot(angles_theta,scaling3* Z34_bem_50, '--g', label = 'BEM-50')\n",
    "axs[0, 3].set_title('Z34')\n",
    "# axs[0, 3].set_ylim([-0.2, 0.2])\n",
    "# axs[0, 3].legend()\n",
    "\n",
    "axs[1, 2].plot(Tmatrix_coords, -Z34_Tmatrix, 'b', label = 'T-matrix')\n",
    "axs[1, 2].plot(angles_theta,-scaling* Z34_bem, '--r', label = 'BEM-10')\n",
    "axs[1, 2].plot(angles_theta,-scaling2* Z34_bem_20, '--y', label = 'BEM-20')\n",
    "axs[1, 2].plot(angles_theta,-scaling3* Z34_bem_50, '--g', label = 'BEM-50')\n",
    "axs[1, 2].set_title('Z43')\n",
    "# axs[1, 2].set_ylim([-0.2, 0.2])\n",
    "# axs[1, 2].legend()\n",
    "\n",
    "axs[1, 3].plot(Tmatrix_coords, Z44_Tmatrix, 'b', label = 'T-matrix')\n",
    "axs[1, 3].plot(angles_theta,scaling* Z44_bem, '--r', label = 'BEM-10')\n",
    "axs[1, 3].plot(angles_theta,scaling2* Z44_bem_20, '--y', label = 'BEM-20')\n",
    "axs[1, 3].plot(angles_theta,scaling3* Z44_bem_50, '--g', label = 'BEM-50')\n",
    "axs[1, 3].set_title('Z44')\n",
    "# axs[1, 3].legend()"
   ]
  },
  {
   "cell_type": "code",
   "execution_count": null,
   "metadata": {
    "collapsed": true
   },
   "outputs": [],
   "source": []
  }
 ],
 "metadata": {
  "kernelspec": {
   "display_name": "Python 3",
   "language": "python",
   "name": "python3"
  },
  "language_info": {
   "codemirror_mode": {
    "name": "ipython",
    "version": 3
   },
   "file_extension": ".py",
   "mimetype": "text/x-python",
   "name": "python",
   "nbconvert_exporter": "python",
   "pygments_lexer": "ipython3",
   "version": "3.6.10"
  }
 },
 "nbformat": 4,
 "nbformat_minor": 2
}
